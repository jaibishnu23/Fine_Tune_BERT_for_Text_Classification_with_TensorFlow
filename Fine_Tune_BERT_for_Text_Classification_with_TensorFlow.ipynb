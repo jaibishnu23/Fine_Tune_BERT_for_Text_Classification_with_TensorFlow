{
 "cells": [
  {
   "cell_type": "markdown",
   "metadata": {
    "id": "zGCJYkQj_Uu2"
   },
   "source": [
    "<h2 align=center> Fine-Tune BERT for Text Classification with TensorFlow</h2>"
   ]
  },
  {
   "cell_type": "markdown",
   "metadata": {
    "id": "4y2m1S6e12il"
   },
   "source": [
    "<div align=\"center\">\n",
    "    <img width=\"512px\" src='https://drive.google.com/uc?id=1fnJTeJs5HUpz7nix-F9E6EZdgUflqyEu' />\n",
    "    <p style=\"text-align: center;color:gray\">Figure 1: BERT Classification Model</p>\n",
    "</div>"
   ]
  },
  {
   "cell_type": "markdown",
   "metadata": {
    "id": "eYYYWqWr_WCC"
   },
   "source": [
    "In this [project](https://www.coursera.org/projects/fine-tune-bert-tensorflow/), you will learn how to fine-tune a BERT model for text classification using TensorFlow and TF-Hub."
   ]
  },
  {
   "cell_type": "markdown",
   "metadata": {
    "id": "5yQG5PCO_WFx"
   },
   "source": [
    "The pretrained BERT model used in this project is [available](https://tfhub.dev/tensorflow/bert_en_uncased_L-12_H-768_A-12/2) on [TensorFlow Hub](https://tfhub.dev/)."
   ]
  },
  {
   "cell_type": "markdown",
   "metadata": {
    "id": "7pKNS21u_WJo"
   },
   "source": [
    "### Learning Objectives"
   ]
  },
  {
   "cell_type": "markdown",
   "metadata": {
    "id": "_3NHSMXv_WMv"
   },
   "source": [
    "By the time you complete this project, you will be able to:\n",
    "\n",
    "- Build TensorFlow Input Pipelines for Text Data with the [`tf.data`](https://www.tensorflow.org/api_docs/python/tf/data) API\n",
    "- Tokenize and Preprocess Text for BERT\n",
    "- Fine-tune BERT for text classification with TensorFlow 2 and [TF Hub](https://tfhub.dev)"
   ]
  },
  {
   "cell_type": "markdown",
   "metadata": {
    "id": "o6BEe-3-AVRQ"
   },
   "source": [
    "### Prerequisites"
   ]
  },
  {
   "cell_type": "markdown",
   "metadata": {
    "id": "Sc9f-8rLAVUS"
   },
   "source": [
    "In order to be successful with this project, it is assumed you are:\n",
    "\n",
    "- Competent in the Python programming language\n",
    "- Familiar with deep learning for Natural Language Processing (NLP)\n",
    "- Familiar with TensorFlow, and its Keras API"
   ]
  },
  {
   "cell_type": "markdown",
   "metadata": {
    "id": "MYXXV5n3Ab-4"
   },
   "source": [
    "### Contents"
   ]
  },
  {
   "cell_type": "markdown",
   "metadata": {
    "id": "XhK-SYGyAjxe"
   },
   "source": [
    "This project/notebook consists of several Tasks.\n",
    "\n",
    "- **[Task 1]()**: Introduction to the Project.\n",
    "- **[Task 2]()**: Setup your TensorFlow and Colab Runtime\n",
    "- **[Task 3]()**: Download and Import the Quora Insincere Questions Dataset\n",
    "- **[Task 4]()**: Create tf.data.Datasets for Training and Evaluation\n",
    "- **[Task 5]()**: Download a Pre-trained BERT Model from TensorFlow Hub\n",
    "- **[Task 6]()**: Tokenize and Preprocess Text for BERT\n",
    "- **[Task 7]()**: Wrap a Python Function into a TensorFlow op for Eager Execution\n",
    "- **[Task 8]()**: Create a TensorFlow Input Pipeline with `tf.data`\n",
    "- **[Task 9]()**: Add a Classification Head to the BERT `hub.KerasLayer`\n",
    "- **[Task 10]()**: Fine-Tune BERT for Text Classification\n",
    "- **[Task 11]()**: Evaluate the BERT Text Classification Model"
   ]
  },
  {
   "cell_type": "markdown",
   "metadata": {
    "id": "IaArqXjRAcBa"
   },
   "source": [
    "## Task 2: Setup your TensorFlow and Colab Runtime."
   ]
  },
  {
   "cell_type": "markdown",
   "metadata": {
    "id": "GDDhjzZ5A4Q_"
   },
   "source": [
    "You will only be able to use the Colab Notebook after you save it to your Google Drive folder. Click on the File menu and select “Save a copy in Drive…\n",
    "\n",
    "![Copy to Drive](https://drive.google.com/uc?id=1CH3eDmuJL8WR0AP1r3UE6sOPuqq8_Wl7)\n"
   ]
  },
  {
   "cell_type": "markdown",
   "metadata": {
    "id": "mpe6GhLuBJWB"
   },
   "source": [
    "### Check GPU Availability\n",
    "\n",
    "Check if your Colab notebook is configured to use Graphical Processing Units (GPUs). If zero GPUs are available, check if the Colab notebook is configured to use GPUs (Menu > Runtime > Change Runtime Type).\n",
    "\n",
    "![Hardware Accelerator Settings](https://drive.google.com/uc?id=1qrihuuMtvzXJHiRV8M7RngbxFYipXKQx)\n"
   ]
  },
  {
   "cell_type": "code",
   "execution_count": 1,
   "metadata": {
    "colab": {
     "base_uri": "https://localhost:8080/"
    },
    "id": "8V9c8vzSL3aj",
    "outputId": "a0d51fb9-41f6-4974-e584-488858c1857f"
   },
   "outputs": [
    {
     "name": "stdout",
     "output_type": "stream",
     "text": [
      "Fri Aug 16 01:48:43 2024       \n",
      "+-----------------------------------------------------------------------------+\n",
      "| NVIDIA-SMI 522.25       Driver Version: 522.25       CUDA Version: 11.8     |\n",
      "|-------------------------------+----------------------+----------------------+\n",
      "| GPU  Name            TCC/WDDM | Bus-Id        Disp.A | Volatile Uncorr. ECC |\n",
      "| Fan  Temp  Perf  Pwr:Usage/Cap|         Memory-Usage | GPU-Util  Compute M. |\n",
      "|                               |                      |               MIG M. |\n",
      "|===============================+======================+======================|\n",
      "|   0  NVIDIA GeForce ... WDDM  | 00000000:01:00.0 Off |                  N/A |\n",
      "| N/A   56C    P0    13W /  N/A |      0MiB /  4096MiB |      0%      Default |\n",
      "|                               |                      |                  N/A |\n",
      "+-------------------------------+----------------------+----------------------+\n",
      "                                                                               \n",
      "+-----------------------------------------------------------------------------+\n",
      "| Processes:                                                                  |\n",
      "|  GPU   GI   CI        PID   Type   Process name                  GPU Memory |\n",
      "|        ID   ID                                                   Usage      |\n",
      "|=============================================================================|\n",
      "|  No running processes found                                                 |\n",
      "+-----------------------------------------------------------------------------+\n"
     ]
    }
   ],
   "source": [
    "!nvidia-smi"
   ]
  },
  {
   "cell_type": "markdown",
   "metadata": {
    "id": "Obch3rAuBVf0"
   },
   "source": [
    "### Install TensorFlow and TensorFlow Model Garden"
   ]
  },
  {
   "cell_type": "code",
   "execution_count": 2,
   "metadata": {
    "colab": {
     "base_uri": "https://localhost:8080/"
    },
    "id": "bUQEY3dFB0jX",
    "outputId": "dedf5eef-72ed-4c81-f633-ecc0271e7178"
   },
   "outputs": [
    {
     "name": "stdout",
     "output_type": "stream",
     "text": [
      "2.13.0\n"
     ]
    }
   ],
   "source": [
    "import tensorflow as tf\n",
    "print(tf.version.VERSION)"
   ]
  },
  {
   "cell_type": "code",
   "execution_count": 3,
   "metadata": {
    "colab": {
     "base_uri": "https://localhost:8080/"
    },
    "id": "aU3YLZ1TYKUt",
    "outputId": "a7ca1ca2-8a22-4335-b448-ea473cca6dac"
   },
   "outputs": [
    {
     "name": "stderr",
     "output_type": "stream",
     "text": [
      "ERROR: Could not find a version that satisfies the requirement tensorflow==2.3.0 (from versions: 2.8.0rc1, 2.8.0, 2.8.1, 2.8.2, 2.8.3, 2.8.4, 2.9.0rc0, 2.9.0rc1, 2.9.0rc2, 2.9.0, 2.9.1, 2.9.2, 2.9.3, 2.10.0rc0, 2.10.0rc1, 2.10.0rc2, 2.10.0rc3, 2.10.0, 2.10.1, 2.11.0rc0, 2.11.0rc1, 2.11.0rc2, 2.11.0, 2.11.1, 2.12.0rc0, 2.12.0rc1, 2.12.0, 2.12.1, 2.13.0rc0, 2.13.0rc1, 2.13.0rc2, 2.13.0, 2.13.1, 2.14.0rc0, 2.14.0rc1, 2.14.0, 2.14.1, 2.15.0rc0, 2.15.0rc1, 2.15.0, 2.15.1, 2.16.0rc0, 2.16.1, 2.16.2, 2.17.0rc0, 2.17.0rc1, 2.17.0)\n",
      "ERROR: No matching distribution found for tensorflow==2.3.0\n"
     ]
    }
   ],
   "source": [
    "!pip install -q tensorflow==2.3.0"
   ]
  },
  {
   "cell_type": "code",
   "execution_count": 33,
   "metadata": {
    "colab": {
     "base_uri": "https://localhost:8080/"
    },
    "id": "AFRTC-zwUy6D",
    "outputId": "a9e73234-2fd3-4d08-f524-ab9964bdd16b"
   },
   "outputs": [
    {
     "name": "stderr",
     "output_type": "stream",
     "text": [
      "'git' is not recognized as an internal or external command,\n",
      "operable program or batch file.\n"
     ]
    }
   ],
   "source": [
    "!git clone --depth 1 -b v2.3.0 https://github.com/tensorflow/models.git"
   ]
  },
  {
   "cell_type": "code",
   "execution_count": 34,
   "metadata": {
    "colab": {
     "base_uri": "https://localhost:8080/"
    },
    "id": "3H2G0571zLLs",
    "outputId": "f7bf7bf5-4722-4b26-aa87-e6130830be15"
   },
   "outputs": [
    {
     "name": "stderr",
     "output_type": "stream",
     "text": [
      "ERROR: Could not open requirements file: [Errno 2] No such file or directory: 'models/official/requirements.txt'\n"
     ]
    }
   ],
   "source": [
    "# install requirements to use tensorflow/models repository\n",
    "!pip install -Uqr models/official/requirements.txt\n",
    "# you may have to restart the runtime afterwards"
   ]
  },
  {
   "cell_type": "markdown",
   "metadata": {
    "id": "GVjksk4yCXur"
   },
   "source": [
    "## Restart the Runtime\n",
    "\n",
    "**Note**\n",
    "After installing the required Python packages, you'll need to restart the Colab Runtime Engine (Menu > Runtime > Restart runtime...)\n",
    "\n",
    "![Restart of the Colab Runtime Engine](https://drive.google.com/uc?id=1xnjAy2sxIymKhydkqb0RKzgVK9rh3teH)"
   ]
  },
  {
   "cell_type": "markdown",
   "metadata": {
    "id": "IMsEoT3Fg4Wg"
   },
   "source": [
    "## Task 3: Download and Import the Quora Insincere Questions Dataset"
   ]
  },
  {
   "cell_type": "code",
   "execution_count": 5,
   "metadata": {},
   "outputs": [
    {
     "name": "stdout",
     "output_type": "stream",
     "text": [
      "Requirement already satisfied: tensorflow in c:\\programdata\\anaconda3\\envs\\myml\\lib\\site-packages (2.13.0)\n",
      "Requirement already satisfied: tensorflow-intel==2.13.0 in c:\\programdata\\anaconda3\\envs\\myml\\lib\\site-packages (from tensorflow) (2.13.0)\n",
      "Requirement already satisfied: absl-py>=1.0.0 in c:\\programdata\\anaconda3\\envs\\myml\\lib\\site-packages (from tensorflow-intel==2.13.0->tensorflow) (2.1.0)\n",
      "Requirement already satisfied: astunparse>=1.6.0 in c:\\programdata\\anaconda3\\envs\\myml\\lib\\site-packages (from tensorflow-intel==2.13.0->tensorflow) (1.6.3)\n",
      "Requirement already satisfied: flatbuffers>=23.1.21 in c:\\programdata\\anaconda3\\envs\\myml\\lib\\site-packages (from tensorflow-intel==2.13.0->tensorflow) (24.3.25)\n",
      "Requirement already satisfied: gast<=0.4.0,>=0.2.1 in c:\\programdata\\anaconda3\\envs\\myml\\lib\\site-packages (from tensorflow-intel==2.13.0->tensorflow) (0.4.0)\n",
      "Requirement already satisfied: google-pasta>=0.1.1 in c:\\programdata\\anaconda3\\envs\\myml\\lib\\site-packages (from tensorflow-intel==2.13.0->tensorflow) (0.2.0)\n",
      "Requirement already satisfied: h5py>=2.9.0 in c:\\programdata\\anaconda3\\envs\\myml\\lib\\site-packages (from tensorflow-intel==2.13.0->tensorflow) (3.11.0)\n",
      "Requirement already satisfied: libclang>=13.0.0 in c:\\programdata\\anaconda3\\envs\\myml\\lib\\site-packages (from tensorflow-intel==2.13.0->tensorflow) (18.1.1)\n",
      "Requirement already satisfied: numpy<=1.24.3,>=1.22 in c:\\programdata\\anaconda3\\envs\\myml\\lib\\site-packages (from tensorflow-intel==2.13.0->tensorflow) (1.24.3)\n",
      "Requirement already satisfied: opt-einsum>=2.3.2 in c:\\programdata\\anaconda3\\envs\\myml\\lib\\site-packages (from tensorflow-intel==2.13.0->tensorflow) (3.3.0)\n",
      "Requirement already satisfied: packaging in c:\\programdata\\anaconda3\\envs\\myml\\lib\\site-packages (from tensorflow-intel==2.13.0->tensorflow) (23.2)\n",
      "Requirement already satisfied: protobuf!=4.21.0,!=4.21.1,!=4.21.2,!=4.21.3,!=4.21.4,!=4.21.5,<5.0.0dev,>=3.20.3 in c:\\programdata\\anaconda3\\envs\\myml\\lib\\site-packages (from tensorflow-intel==2.13.0->tensorflow) (3.20.3)\n",
      "Requirement already satisfied: setuptools in c:\\programdata\\anaconda3\\envs\\myml\\lib\\site-packages (from tensorflow-intel==2.13.0->tensorflow) (72.2.0)\n",
      "Requirement already satisfied: six>=1.12.0 in c:\\programdata\\anaconda3\\envs\\myml\\lib\\site-packages (from tensorflow-intel==2.13.0->tensorflow) (1.16.0)\n",
      "Requirement already satisfied: termcolor>=1.1.0 in c:\\programdata\\anaconda3\\envs\\myml\\lib\\site-packages (from tensorflow-intel==2.13.0->tensorflow) (2.1.0)\n",
      "Requirement already satisfied: typing-extensions<4.6.0,>=3.6.6 in c:\\programdata\\anaconda3\\envs\\myml\\lib\\site-packages (from tensorflow-intel==2.13.0->tensorflow) (4.5.0)\n",
      "Requirement already satisfied: wrapt>=1.11.0 in c:\\programdata\\anaconda3\\envs\\myml\\lib\\site-packages (from tensorflow-intel==2.13.0->tensorflow) (1.14.1)\n",
      "Requirement already satisfied: grpcio<2.0,>=1.24.3 in c:\\programdata\\anaconda3\\envs\\myml\\lib\\site-packages (from tensorflow-intel==2.13.0->tensorflow) (1.65.4)\n",
      "Requirement already satisfied: tensorboard<2.14,>=2.13 in c:\\programdata\\anaconda3\\envs\\myml\\lib\\site-packages (from tensorflow-intel==2.13.0->tensorflow) (2.13.0)\n",
      "Requirement already satisfied: tensorflow-estimator<2.14,>=2.13.0 in c:\\programdata\\anaconda3\\envs\\myml\\lib\\site-packages (from tensorflow-intel==2.13.0->tensorflow) (2.13.0)\n",
      "Requirement already satisfied: keras<2.14,>=2.13.1 in c:\\programdata\\anaconda3\\envs\\myml\\lib\\site-packages (from tensorflow-intel==2.13.0->tensorflow) (2.13.1)\n",
      "Requirement already satisfied: tensorflow-io-gcs-filesystem>=0.23.1 in c:\\programdata\\anaconda3\\envs\\myml\\lib\\site-packages (from tensorflow-intel==2.13.0->tensorflow) (0.31.0)\n",
      "Requirement already satisfied: wheel<1.0,>=0.23.0 in c:\\programdata\\anaconda3\\envs\\myml\\lib\\site-packages (from astunparse>=1.6.0->tensorflow-intel==2.13.0->tensorflow) (0.44.0)\n",
      "Requirement already satisfied: google-auth<3,>=1.6.3 in c:\\programdata\\anaconda3\\envs\\myml\\lib\\site-packages (from tensorboard<2.14,>=2.13->tensorflow-intel==2.13.0->tensorflow) (2.29.0)\n",
      "Requirement already satisfied: google-auth-oauthlib<1.1,>=0.5 in c:\\programdata\\anaconda3\\envs\\myml\\lib\\site-packages (from tensorboard<2.14,>=2.13->tensorflow-intel==2.13.0->tensorflow) (1.0.0)\n",
      "Requirement already satisfied: markdown>=2.6.8 in c:\\programdata\\anaconda3\\envs\\myml\\lib\\site-packages (from tensorboard<2.14,>=2.13->tensorflow-intel==2.13.0->tensorflow) (3.4.1)\n",
      "Requirement already satisfied: requests<3,>=2.21.0 in c:\\programdata\\anaconda3\\envs\\myml\\lib\\site-packages (from tensorboard<2.14,>=2.13->tensorflow-intel==2.13.0->tensorflow) (2.32.2)\n",
      "Requirement already satisfied: tensorboard-data-server<0.8.0,>=0.7.0 in c:\\programdata\\anaconda3\\envs\\myml\\lib\\site-packages (from tensorboard<2.14,>=2.13->tensorflow-intel==2.13.0->tensorflow) (0.7.2)\n",
      "Requirement already satisfied: werkzeug>=1.0.1 in c:\\programdata\\anaconda3\\envs\\myml\\lib\\site-packages (from tensorboard<2.14,>=2.13->tensorflow-intel==2.13.0->tensorflow) (3.0.3)\n",
      "Requirement already satisfied: cachetools<6.0,>=2.0.0 in c:\\programdata\\anaconda3\\envs\\myml\\lib\\site-packages (from google-auth<3,>=1.6.3->tensorboard<2.14,>=2.13->tensorflow-intel==2.13.0->tensorflow) (5.3.3)\n",
      "Requirement already satisfied: pyasn1-modules>=0.2.1 in c:\\programdata\\anaconda3\\envs\\myml\\lib\\site-packages (from google-auth<3,>=1.6.3->tensorboard<2.14,>=2.13->tensorflow-intel==2.13.0->tensorflow) (0.2.8)\n",
      "Requirement already satisfied: rsa<5,>=3.1.4 in c:\\programdata\\anaconda3\\envs\\myml\\lib\\site-packages (from google-auth<3,>=1.6.3->tensorboard<2.14,>=2.13->tensorflow-intel==2.13.0->tensorflow) (4.7.2)\n",
      "Requirement already satisfied: requests-oauthlib>=0.7.0 in c:\\programdata\\anaconda3\\envs\\myml\\lib\\site-packages (from google-auth-oauthlib<1.1,>=0.5->tensorboard<2.14,>=2.13->tensorflow-intel==2.13.0->tensorflow) (1.3.0)\n",
      "Requirement already satisfied: charset-normalizer<4,>=2 in c:\\programdata\\anaconda3\\envs\\myml\\lib\\site-packages (from requests<3,>=2.21.0->tensorboard<2.14,>=2.13->tensorflow-intel==2.13.0->tensorflow) (2.0.4)\n",
      "Requirement already satisfied: idna<4,>=2.5 in c:\\programdata\\anaconda3\\envs\\myml\\lib\\site-packages (from requests<3,>=2.21.0->tensorboard<2.14,>=2.13->tensorflow-intel==2.13.0->tensorflow) (3.7)\n",
      "Requirement already satisfied: urllib3<3,>=1.21.1 in c:\\programdata\\anaconda3\\envs\\myml\\lib\\site-packages (from requests<3,>=2.21.0->tensorboard<2.14,>=2.13->tensorflow-intel==2.13.0->tensorflow) (2.2.1)\n",
      "Requirement already satisfied: certifi>=2017.4.17 in c:\\programdata\\anaconda3\\envs\\myml\\lib\\site-packages (from requests<3,>=2.21.0->tensorboard<2.14,>=2.13->tensorflow-intel==2.13.0->tensorflow) (2024.6.2)\n",
      "Requirement already satisfied: MarkupSafe>=2.1.1 in c:\\programdata\\anaconda3\\envs\\myml\\lib\\site-packages (from werkzeug>=1.0.1->tensorboard<2.14,>=2.13->tensorflow-intel==2.13.0->tensorflow) (2.1.3)\n",
      "Requirement already satisfied: pyasn1<0.5.0,>=0.4.6 in c:\\programdata\\anaconda3\\envs\\myml\\lib\\site-packages (from pyasn1-modules>=0.2.1->google-auth<3,>=1.6.3->tensorboard<2.14,>=2.13->tensorflow-intel==2.13.0->tensorflow) (0.4.8)\n",
      "Requirement already satisfied: oauthlib>=3.0.0 in c:\\programdata\\anaconda3\\envs\\myml\\lib\\site-packages (from requests-oauthlib>=0.7.0->google-auth-oauthlib<1.1,>=0.5->tensorboard<2.14,>=2.13->tensorflow-intel==2.13.0->tensorflow) (3.2.2)\n",
      "Note: you may need to restart the kernel to use updated packages.\n"
     ]
    }
   ],
   "source": [
    "pip install tensorflow\n"
   ]
  },
  {
   "cell_type": "code",
   "execution_count": 7,
   "metadata": {
    "colab": {
     "base_uri": "https://localhost:8080/"
    },
    "id": "GmqEylyFYTdP",
    "outputId": "609cf168-438c-4122-bae4-96366366444d"
   },
   "outputs": [
    {
     "ename": "ModuleNotFoundError",
     "evalue": "No module named 'official'",
     "output_type": "error",
     "traceback": [
      "\u001b[1;31m---------------------------------------------------------------------------\u001b[0m",
      "\u001b[1;31mModuleNotFoundError\u001b[0m                       Traceback (most recent call last)",
      "Cell \u001b[1;32mIn[7], line 6\u001b[0m\n\u001b[0;32m      4\u001b[0m \u001b[38;5;28;01mimport\u001b[39;00m \u001b[38;5;21;01msys\u001b[39;00m\n\u001b[0;32m      5\u001b[0m sys\u001b[38;5;241m.\u001b[39mpath\u001b[38;5;241m.\u001b[39mappend(\u001b[38;5;124m'\u001b[39m\u001b[38;5;124mmodels\u001b[39m\u001b[38;5;124m'\u001b[39m)\n\u001b[1;32m----> 6\u001b[0m \u001b[38;5;28;01mfrom\u001b[39;00m \u001b[38;5;21;01mofficial\u001b[39;00m\u001b[38;5;21;01m.\u001b[39;00m\u001b[38;5;21;01mnlp\u001b[39;00m\u001b[38;5;21;01m.\u001b[39;00m\u001b[38;5;21;01mdata\u001b[39;00m \u001b[38;5;28;01mimport\u001b[39;00m classifier_data_lib\n\u001b[0;32m      7\u001b[0m \u001b[38;5;28;01mfrom\u001b[39;00m \u001b[38;5;21;01mofficial\u001b[39;00m\u001b[38;5;21;01m.\u001b[39;00m\u001b[38;5;21;01mnlp\u001b[39;00m\u001b[38;5;21;01m.\u001b[39;00m\u001b[38;5;21;01mbert\u001b[39;00m \u001b[38;5;28;01mimport\u001b[39;00m tokenization\n\u001b[0;32m      8\u001b[0m \u001b[38;5;28;01mfrom\u001b[39;00m \u001b[38;5;21;01mofficial\u001b[39;00m\u001b[38;5;21;01m.\u001b[39;00m\u001b[38;5;21;01mnlp\u001b[39;00m \u001b[38;5;28;01mimport\u001b[39;00m optimization\n",
      "\u001b[1;31mModuleNotFoundError\u001b[0m: No module named 'official'"
     ]
    }
   ],
   "source": [
    "import numpy as np\n",
    "import tensorflow as tf\n",
    "import tensorflow_hub as hub\n",
    "import sys\n",
    "sys.path.append('models')\n",
    "from official.nlp.data import classifier_data_lib\n",
    "from official.nlp.bert import tokenization\n",
    "from official.nlp import optimization"
   ]
  },
  {
   "cell_type": "code",
   "execution_count": 37,
   "metadata": {
    "colab": {
     "base_uri": "https://localhost:8080/",
     "height": 1000
    },
    "id": "sY6dgGOq8HQ6",
    "outputId": "93e27f24-3841-42b5-ff8f-bef3d026c826"
   },
   "outputs": [
    {
     "name": "stdout",
     "output_type": "stream",
     "text": [
      "Collecting tensorflow==2.13\n",
      "  Using cached tensorflow-2.13.0-cp310-cp310-win_amd64.whl.metadata (2.6 kB)\n",
      "Collecting tensorflow-intel==2.13.0 (from tensorflow==2.13)\n",
      "  Using cached tensorflow_intel-2.13.0-cp310-cp310-win_amd64.whl.metadata (4.1 kB)\n",
      "Requirement already satisfied: absl-py>=1.0.0 in c:\\programdata\\anaconda3\\envs\\myml\\lib\\site-packages (from tensorflow-intel==2.13.0->tensorflow==2.13) (2.1.0)\n",
      "Requirement already satisfied: astunparse>=1.6.0 in c:\\programdata\\anaconda3\\envs\\myml\\lib\\site-packages (from tensorflow-intel==2.13.0->tensorflow==2.13) (1.6.3)\n",
      "Requirement already satisfied: flatbuffers>=23.1.21 in c:\\programdata\\anaconda3\\envs\\myml\\lib\\site-packages (from tensorflow-intel==2.13.0->tensorflow==2.13) (24.3.25)\n",
      "Requirement already satisfied: gast<=0.4.0,>=0.2.1 in c:\\programdata\\anaconda3\\envs\\myml\\lib\\site-packages (from tensorflow-intel==2.13.0->tensorflow==2.13) (0.4.0)\n",
      "Requirement already satisfied: google-pasta>=0.1.1 in c:\\programdata\\anaconda3\\envs\\myml\\lib\\site-packages (from tensorflow-intel==2.13.0->tensorflow==2.13) (0.2.0)\n",
      "Requirement already satisfied: h5py>=2.9.0 in c:\\programdata\\anaconda3\\envs\\myml\\lib\\site-packages (from tensorflow-intel==2.13.0->tensorflow==2.13) (3.11.0)\n",
      "Requirement already satisfied: libclang>=13.0.0 in c:\\programdata\\anaconda3\\envs\\myml\\lib\\site-packages (from tensorflow-intel==2.13.0->tensorflow==2.13) (18.1.1)\n",
      "Requirement already satisfied: numpy<=1.24.3,>=1.22 in c:\\programdata\\anaconda3\\envs\\myml\\lib\\site-packages (from tensorflow-intel==2.13.0->tensorflow==2.13) (1.24.3)\n",
      "Requirement already satisfied: opt-einsum>=2.3.2 in c:\\programdata\\anaconda3\\envs\\myml\\lib\\site-packages (from tensorflow-intel==2.13.0->tensorflow==2.13) (3.3.0)\n",
      "Requirement already satisfied: packaging in c:\\programdata\\anaconda3\\envs\\myml\\lib\\site-packages (from tensorflow-intel==2.13.0->tensorflow==2.13) (23.2)\n",
      "Requirement already satisfied: protobuf!=4.21.0,!=4.21.1,!=4.21.2,!=4.21.3,!=4.21.4,!=4.21.5,<5.0.0dev,>=3.20.3 in c:\\programdata\\anaconda3\\envs\\myml\\lib\\site-packages (from tensorflow-intel==2.13.0->tensorflow==2.13) (3.20.3)\n",
      "Requirement already satisfied: setuptools in c:\\programdata\\anaconda3\\envs\\myml\\lib\\site-packages (from tensorflow-intel==2.13.0->tensorflow==2.13) (72.2.0)\n",
      "Requirement already satisfied: six>=1.12.0 in c:\\programdata\\anaconda3\\envs\\myml\\lib\\site-packages (from tensorflow-intel==2.13.0->tensorflow==2.13) (1.16.0)\n",
      "Requirement already satisfied: termcolor>=1.1.0 in c:\\programdata\\anaconda3\\envs\\myml\\lib\\site-packages (from tensorflow-intel==2.13.0->tensorflow==2.13) (2.1.0)\n",
      "Collecting typing-extensions<4.6.0,>=3.6.6 (from tensorflow-intel==2.13.0->tensorflow==2.13)\n",
      "  Using cached typing_extensions-4.5.0-py3-none-any.whl.metadata (8.5 kB)\n",
      "Requirement already satisfied: wrapt>=1.11.0 in c:\\programdata\\anaconda3\\envs\\myml\\lib\\site-packages (from tensorflow-intel==2.13.0->tensorflow==2.13) (1.14.1)\n",
      "Requirement already satisfied: grpcio<2.0,>=1.24.3 in c:\\programdata\\anaconda3\\envs\\myml\\lib\\site-packages (from tensorflow-intel==2.13.0->tensorflow==2.13) (1.65.4)\n",
      "Collecting tensorboard<2.14,>=2.13 (from tensorflow-intel==2.13.0->tensorflow==2.13)\n",
      "  Using cached tensorboard-2.13.0-py3-none-any.whl.metadata (1.8 kB)\n",
      "Requirement already satisfied: tensorflow-estimator<2.14,>=2.13.0 in c:\\programdata\\anaconda3\\envs\\myml\\lib\\site-packages (from tensorflow-intel==2.13.0->tensorflow==2.13) (2.13.0)\n",
      "Collecting keras<2.14,>=2.13.1 (from tensorflow-intel==2.13.0->tensorflow==2.13)\n",
      "  Using cached keras-2.13.1-py3-none-any.whl.metadata (2.4 kB)\n",
      "Requirement already satisfied: tensorflow-io-gcs-filesystem>=0.23.1 in c:\\programdata\\anaconda3\\envs\\myml\\lib\\site-packages (from tensorflow-intel==2.13.0->tensorflow==2.13) (0.31.0)\n",
      "Requirement already satisfied: wheel<1.0,>=0.23.0 in c:\\programdata\\anaconda3\\envs\\myml\\lib\\site-packages (from astunparse>=1.6.0->tensorflow-intel==2.13.0->tensorflow==2.13) (0.44.0)\n",
      "Requirement already satisfied: google-auth<3,>=1.6.3 in c:\\programdata\\anaconda3\\envs\\myml\\lib\\site-packages (from tensorboard<2.14,>=2.13->tensorflow-intel==2.13.0->tensorflow==2.13) (2.29.0)\n",
      "Requirement already satisfied: google-auth-oauthlib<1.1,>=0.5 in c:\\programdata\\anaconda3\\envs\\myml\\lib\\site-packages (from tensorboard<2.14,>=2.13->tensorflow-intel==2.13.0->tensorflow==2.13) (1.0.0)\n",
      "Requirement already satisfied: markdown>=2.6.8 in c:\\programdata\\anaconda3\\envs\\myml\\lib\\site-packages (from tensorboard<2.14,>=2.13->tensorflow-intel==2.13.0->tensorflow==2.13) (3.4.1)\n",
      "Requirement already satisfied: requests<3,>=2.21.0 in c:\\programdata\\anaconda3\\envs\\myml\\lib\\site-packages (from tensorboard<2.14,>=2.13->tensorflow-intel==2.13.0->tensorflow==2.13) (2.32.2)\n",
      "Requirement already satisfied: tensorboard-data-server<0.8.0,>=0.7.0 in c:\\programdata\\anaconda3\\envs\\myml\\lib\\site-packages (from tensorboard<2.14,>=2.13->tensorflow-intel==2.13.0->tensorflow==2.13) (0.7.2)\n",
      "Requirement already satisfied: werkzeug>=1.0.1 in c:\\programdata\\anaconda3\\envs\\myml\\lib\\site-packages (from tensorboard<2.14,>=2.13->tensorflow-intel==2.13.0->tensorflow==2.13) (3.0.3)\n",
      "Requirement already satisfied: cachetools<6.0,>=2.0.0 in c:\\programdata\\anaconda3\\envs\\myml\\lib\\site-packages (from google-auth<3,>=1.6.3->tensorboard<2.14,>=2.13->tensorflow-intel==2.13.0->tensorflow==2.13) (5.3.3)\n",
      "Requirement already satisfied: pyasn1-modules>=0.2.1 in c:\\programdata\\anaconda3\\envs\\myml\\lib\\site-packages (from google-auth<3,>=1.6.3->tensorboard<2.14,>=2.13->tensorflow-intel==2.13.0->tensorflow==2.13) (0.2.8)\n",
      "Requirement already satisfied: rsa<5,>=3.1.4 in c:\\programdata\\anaconda3\\envs\\myml\\lib\\site-packages (from google-auth<3,>=1.6.3->tensorboard<2.14,>=2.13->tensorflow-intel==2.13.0->tensorflow==2.13) (4.7.2)\n",
      "Requirement already satisfied: requests-oauthlib>=0.7.0 in c:\\programdata\\anaconda3\\envs\\myml\\lib\\site-packages (from google-auth-oauthlib<1.1,>=0.5->tensorboard<2.14,>=2.13->tensorflow-intel==2.13.0->tensorflow==2.13) (1.3.0)\n",
      "Requirement already satisfied: charset-normalizer<4,>=2 in c:\\programdata\\anaconda3\\envs\\myml\\lib\\site-packages (from requests<3,>=2.21.0->tensorboard<2.14,>=2.13->tensorflow-intel==2.13.0->tensorflow==2.13) (2.0.4)\n",
      "Requirement already satisfied: idna<4,>=2.5 in c:\\programdata\\anaconda3\\envs\\myml\\lib\\site-packages (from requests<3,>=2.21.0->tensorboard<2.14,>=2.13->tensorflow-intel==2.13.0->tensorflow==2.13) (3.7)\n",
      "Requirement already satisfied: urllib3<3,>=1.21.1 in c:\\programdata\\anaconda3\\envs\\myml\\lib\\site-packages (from requests<3,>=2.21.0->tensorboard<2.14,>=2.13->tensorflow-intel==2.13.0->tensorflow==2.13) (2.2.1)\n",
      "Requirement already satisfied: certifi>=2017.4.17 in c:\\programdata\\anaconda3\\envs\\myml\\lib\\site-packages (from requests<3,>=2.21.0->tensorboard<2.14,>=2.13->tensorflow-intel==2.13.0->tensorflow==2.13) (2024.6.2)\n",
      "Requirement already satisfied: MarkupSafe>=2.1.1 in c:\\programdata\\anaconda3\\envs\\myml\\lib\\site-packages (from werkzeug>=1.0.1->tensorboard<2.14,>=2.13->tensorflow-intel==2.13.0->tensorflow==2.13) (2.1.3)\n",
      "Requirement already satisfied: pyasn1<0.5.0,>=0.4.6 in c:\\programdata\\anaconda3\\envs\\myml\\lib\\site-packages (from pyasn1-modules>=0.2.1->google-auth<3,>=1.6.3->tensorboard<2.14,>=2.13->tensorflow-intel==2.13.0->tensorflow==2.13) (0.4.8)\n",
      "Requirement already satisfied: oauthlib>=3.0.0 in c:\\programdata\\anaconda3\\envs\\myml\\lib\\site-packages (from requests-oauthlib>=0.7.0->google-auth-oauthlib<1.1,>=0.5->tensorboard<2.14,>=2.13->tensorflow-intel==2.13.0->tensorflow==2.13) (3.2.2)\n",
      "Using cached tensorflow-2.13.0-cp310-cp310-win_amd64.whl (1.9 kB)\n",
      "Using cached tensorflow_intel-2.13.0-cp310-cp310-win_amd64.whl (276.5 MB)\n",
      "Using cached keras-2.13.1-py3-none-any.whl (1.7 MB)\n",
      "Using cached tensorboard-2.13.0-py3-none-any.whl (5.6 MB)\n",
      "Using cached typing_extensions-4.5.0-py3-none-any.whl (27 kB)\n",
      "Installing collected packages: typing-extensions, keras, tensorboard, tensorflow-intel, tensorflow\n",
      "  Attempting uninstall: typing-extensions\n",
      "    Found existing installation: typing_extensions 4.12.2\n",
      "    Uninstalling typing_extensions-4.12.2:\n",
      "      Successfully uninstalled typing_extensions-4.12.2\n",
      "  Attempting uninstall: keras\n",
      "    Found existing installation: keras 3.5.0\n",
      "    Uninstalling keras-3.5.0:\n",
      "      Successfully uninstalled keras-3.5.0\n",
      "  Attempting uninstall: tensorboard\n",
      "    Found existing installation: tensorboard 2.17.0\n",
      "    Uninstalling tensorboard-2.17.0:\n",
      "      Successfully uninstalled tensorboard-2.17.0\n",
      "  Attempting uninstall: tensorflow-intel\n",
      "    Found existing installation: tensorflow-intel 2.17.0\n",
      "    Uninstalling tensorflow-intel-2.17.0:\n",
      "      Successfully uninstalled tensorflow-intel-2.17.0\n",
      "  Attempting uninstall: tensorflow\n",
      "    Found existing installation: tensorflow 2.17.0\n",
      "    Uninstalling tensorflow-2.17.0:\n",
      "      Successfully uninstalled tensorflow-2.17.0\n",
      "Successfully installed keras-2.13.1 tensorboard-2.13.0 tensorflow-2.13.0 tensorflow-intel-2.13.0 typing-extensions-4.5.0\n"
     ]
    },
    {
     "name": "stderr",
     "output_type": "stream",
     "text": [
      "ERROR: pip's dependency resolver does not currently take into account all the packages that are installed. This behaviour is the source of the following dependency conflicts.\n",
      "tf-keras 2.17.0 requires tensorflow<2.18,>=2.17, but you have tensorflow 2.13.0 which is incompatible.\n"
     ]
    },
    {
     "name": "stdout",
     "output_type": "stream",
     "text": [
      "Collecting tensorflow-addons==0.16.1\n",
      "  Using cached tensorflow_addons-0.16.1-cp310-cp310-win_amd64.whl.metadata (1.8 kB)\n",
      "Requirement already satisfied: typeguard>=2.7 in c:\\programdata\\anaconda3\\envs\\myml\\lib\\site-packages (from tensorflow-addons==0.16.1) (2.13.3)\n",
      "Using cached tensorflow_addons-0.16.1-cp310-cp310-win_amd64.whl (755 kB)\n",
      "Installing collected packages: tensorflow-addons\n",
      "  Attempting uninstall: tensorflow-addons\n",
      "    Found existing installation: tensorflow-addons 0.22.0\n",
      "    Uninstalling tensorflow-addons-0.22.0:\n",
      "      Successfully uninstalled tensorflow-addons-0.22.0\n",
      "Successfully installed tensorflow-addons-0.16.1\n"
     ]
    }
   ],
   "source": [
    "!pip install --upgrade tensorflow==2.13\n",
    "!pip install --upgrade tensorflow-addons==0.16.1"
   ]
  },
  {
   "cell_type": "code",
   "execution_count": 12,
   "metadata": {
    "colab": {
     "base_uri": "https://localhost:8080/"
    },
    "id": "6HLCigjuGx5V",
    "outputId": "347d85d3-b252-4582-93d6-0acae258ace5"
   },
   "outputs": [
    {
     "name": "stdout",
     "output_type": "stream",
     "text": [
      "Requirement already satisfied: tensorflow-addons in c:\\programdata\\anaconda3\\envs\\myml\\lib\\site-packages (0.16.1)\n",
      "Collecting tensorflow-addons\n",
      "  Downloading tensorflow_addons-0.22.0-cp310-cp310-win_amd64.whl.metadata (1.8 kB)\n",
      "Collecting typeguard<3.0.0,>=2.7 (from tensorflow-addons)\n",
      "  Downloading typeguard-2.13.3-py3-none-any.whl.metadata (3.6 kB)\n",
      "Requirement already satisfied: packaging in c:\\programdata\\anaconda3\\envs\\myml\\lib\\site-packages (from tensorflow-addons) (23.2)\n",
      "Downloading tensorflow_addons-0.22.0-cp310-cp310-win_amd64.whl (719 kB)\n",
      "   ---------------------------------------- 0.0/719.8 kB ? eta -:--:--\n",
      "   ---------- ----------------------------- 194.6/719.8 kB 5.9 MB/s eta 0:00:01\n",
      "   -------------------------------- ------- 583.7/719.8 kB 7.4 MB/s eta 0:00:01\n",
      "   ---------------------------------------- 719.8/719.8 kB 7.5 MB/s eta 0:00:00\n",
      "Downloading typeguard-2.13.3-py3-none-any.whl (17 kB)\n",
      "Installing collected packages: typeguard, tensorflow-addons\n",
      "  Attempting uninstall: typeguard\n",
      "    Found existing installation: typeguard 4.3.0\n",
      "    Uninstalling typeguard-4.3.0:\n",
      "      Successfully uninstalled typeguard-4.3.0\n",
      "  Attempting uninstall: tensorflow-addons\n",
      "    Found existing installation: tensorflow-addons 0.16.1\n",
      "    Uninstalling tensorflow-addons-0.16.1:\n",
      "      Successfully uninstalled tensorflow-addons-0.16.1\n",
      "Successfully installed tensorflow-addons-0.22.0 typeguard-2.13.3\n"
     ]
    }
   ],
   "source": [
    "!pip install --upgrade tensorflow-addons"
   ]
  },
  {
   "cell_type": "code",
   "execution_count": 38,
   "metadata": {
    "colab": {
     "base_uri": "https://localhost:8080/"
    },
    "id": "ZuX1lB8pPJ-W",
    "outputId": "a31a8dc5-b5d0-49d6-aee1-38d639477b27"
   },
   "outputs": [
    {
     "name": "stdout",
     "output_type": "stream",
     "text": [
      "TF Version:  2.10.0\n",
      "Eager mode:  True\n",
      "Hub version:  0.16.1\n",
      "GPU is NOT AVAILABLE\n"
     ]
    }
   ],
   "source": [
    "print(\"TF Version: \", tf.__version__)\n",
    "print(\"Eager mode: \", tf.executing_eagerly())\n",
    "print(\"Hub version: \", hub.__version__)\n",
    "print(\"GPU is\", \"available\" if tf.config.experimental.list_physical_devices(\"GPU\") else \"NOT AVAILABLE\")"
   ]
  },
  {
   "cell_type": "markdown",
   "metadata": {
    "id": "QtbwpWgyEZg7"
   },
   "source": [
    "A downloadable copy of the [Quora Insincere Questions Classification data](https://www.kaggle.com/c/quora-insincere-questions-classification/data) can be found [https://archive.org/download/fine-tune-bert-tensorflow-train.csv/train.csv.zip](https://archive.org/download/fine-tune-bert-tensorflow-train.csv/train.csv.zip). Decompress and read the data into a pandas DataFrame."
   ]
  },
  {
   "cell_type": "code",
   "execution_count": 39,
   "metadata": {
    "id": "0nI-9itVwCCQ"
   },
   "outputs": [],
   "source": [
    "import numpy as np\n",
    "import pandas as pd\n",
    "from sklearn.model_selection import train_test_split\n",
    "\n"
   ]
  },
  {
   "cell_type": "code",
   "execution_count": null,
   "metadata": {
    "colab": {
     "base_uri": "https://localhost:8080/"
    },
    "id": "yeHE98KiMvDd",
    "outputId": "5d727621-1f0b-42a9-e519-d8f5e79d33d0"
   },
   "outputs": [],
   "source": [
    "df = pd.read_csv('train.csv')\n",
    "df.shape"
   ]
  },
  {
   "cell_type": "code",
   "execution_count": 5,
   "metadata": {
    "colab": {
     "base_uri": "https://localhost:8080/",
     "height": 676
    },
    "id": "leRFRWJMocVa",
    "outputId": "61c5b108-6636-49b8-9d09-91e48f0dd898"
   },
   "outputs": [
    {
     "data": {
      "application/vnd.google.colaboratory.intrinsic+json": {
       "summary": "{\n  \"name\": \"df\",\n  \"rows\": 20,\n  \"fields\": [\n    {\n      \"column\": \"qid\",\n      \"properties\": {\n        \"dtype\": \"string\",\n        \"num_unique_values\": 20,\n        \"samples\": [\n          \"ffff3778790af9baae76\",\n          \"ffffd48fb36b63db010c\",\n          \"ffffcc4e2331aaf1e41e\"\n        ],\n        \"semantic_type\": \"\",\n        \"description\": \"\"\n      }\n    },\n    {\n      \"column\": \"question_text\",\n      \"properties\": {\n        \"dtype\": \"string\",\n        \"num_unique_values\": 20,\n        \"samples\": [\n          \"What steps can I take to live a normal life if I suffer from social anxiety? I am unable to obtain a job b/c I shut down during interviews. My mind goes completely blank and I am unable to form complete sentences. I\\u2019ve struggled with this all my life\",\n          \"Is foam insulation toxic?\",\n          \"What other technical skills do you need as a computer science undergrad other than c and c++?\"\n        ],\n        \"semantic_type\": \"\",\n        \"description\": \"\"\n      }\n    },\n    {\n      \"column\": \"target\",\n      \"properties\": {\n        \"dtype\": \"number\",\n        \"std\": 0,\n        \"min\": 0,\n        \"max\": 1,\n        \"num_unique_values\": 2,\n        \"samples\": [\n          1,\n          0\n        ],\n        \"semantic_type\": \"\",\n        \"description\": \"\"\n      }\n    }\n  ]\n}",
       "type": "dataframe"
      },
      "text/html": [
       "\n",
       "  <div id=\"df-c9ee3eb3-cef7-4db2-95cb-099d92c35475\" class=\"colab-df-container\">\n",
       "    <div>\n",
       "<style scoped>\n",
       "    .dataframe tbody tr th:only-of-type {\n",
       "        vertical-align: middle;\n",
       "    }\n",
       "\n",
       "    .dataframe tbody tr th {\n",
       "        vertical-align: top;\n",
       "    }\n",
       "\n",
       "    .dataframe thead th {\n",
       "        text-align: right;\n",
       "    }\n",
       "</style>\n",
       "<table border=\"1\" class=\"dataframe\">\n",
       "  <thead>\n",
       "    <tr style=\"text-align: right;\">\n",
       "      <th></th>\n",
       "      <th>qid</th>\n",
       "      <th>question_text</th>\n",
       "      <th>target</th>\n",
       "    </tr>\n",
       "  </thead>\n",
       "  <tbody>\n",
       "    <tr>\n",
       "      <th>1306102</th>\n",
       "      <td>ffff3778790af9baae76</td>\n",
       "      <td>What steps can I take to live a normal life if...</td>\n",
       "      <td>0</td>\n",
       "    </tr>\n",
       "    <tr>\n",
       "      <th>1306103</th>\n",
       "      <td>ffff3f0a2449ffe4b9ff</td>\n",
       "      <td>Isn't Trump right after all? Why should the US...</td>\n",
       "      <td>1</td>\n",
       "    </tr>\n",
       "    <tr>\n",
       "      <th>1306104</th>\n",
       "      <td>ffff41393389d4206066</td>\n",
       "      <td>Is 33 too late for a career in creative advert...</td>\n",
       "      <td>0</td>\n",
       "    </tr>\n",
       "    <tr>\n",
       "      <th>1306105</th>\n",
       "      <td>ffff42493fc203cd9532</td>\n",
       "      <td>What is difference between the filteration wor...</td>\n",
       "      <td>0</td>\n",
       "    </tr>\n",
       "    <tr>\n",
       "      <th>1306106</th>\n",
       "      <td>ffff48dd47bee89fff79</td>\n",
       "      <td>If the universe \"popped\" into existence from n...</td>\n",
       "      <td>0</td>\n",
       "    </tr>\n",
       "    <tr>\n",
       "      <th>1306107</th>\n",
       "      <td>ffff5fd051a032f32a39</td>\n",
       "      <td>How does a shared service technology team meas...</td>\n",
       "      <td>0</td>\n",
       "    </tr>\n",
       "    <tr>\n",
       "      <th>1306108</th>\n",
       "      <td>ffff6d528040d3888b93</td>\n",
       "      <td>How is DSATM civil engineering?</td>\n",
       "      <td>0</td>\n",
       "    </tr>\n",
       "    <tr>\n",
       "      <th>1306109</th>\n",
       "      <td>ffff8776cd30cdc8d7f8</td>\n",
       "      <td>Do you know any problem that depends solely on...</td>\n",
       "      <td>0</td>\n",
       "    </tr>\n",
       "    <tr>\n",
       "      <th>1306110</th>\n",
       "      <td>ffff94d427ade3716cd1</td>\n",
       "      <td>What are some comic ideas for you Tube videos ...</td>\n",
       "      <td>0</td>\n",
       "    </tr>\n",
       "    <tr>\n",
       "      <th>1306111</th>\n",
       "      <td>ffffa382c58368071dc9</td>\n",
       "      <td>If you had $10 million of Bitcoin, could you s...</td>\n",
       "      <td>0</td>\n",
       "    </tr>\n",
       "    <tr>\n",
       "      <th>1306112</th>\n",
       "      <td>ffffa5b0fa76431c063f</td>\n",
       "      <td>Are you ashamed of being an Indian?</td>\n",
       "      <td>1</td>\n",
       "    </tr>\n",
       "    <tr>\n",
       "      <th>1306113</th>\n",
       "      <td>ffffae5dbda3dc9e9771</td>\n",
       "      <td>What are the methods to determine fossil ages ...</td>\n",
       "      <td>0</td>\n",
       "    </tr>\n",
       "    <tr>\n",
       "      <th>1306114</th>\n",
       "      <td>ffffba7c4888798571c1</td>\n",
       "      <td>What is your story today?</td>\n",
       "      <td>0</td>\n",
       "    </tr>\n",
       "    <tr>\n",
       "      <th>1306115</th>\n",
       "      <td>ffffc0c7158658a06fd9</td>\n",
       "      <td>How do I consume 150 gms protein daily both ve...</td>\n",
       "      <td>0</td>\n",
       "    </tr>\n",
       "    <tr>\n",
       "      <th>1306116</th>\n",
       "      <td>ffffc404da586ac5a08f</td>\n",
       "      <td>What are the good career options for a msc che...</td>\n",
       "      <td>0</td>\n",
       "    </tr>\n",
       "    <tr>\n",
       "      <th>1306117</th>\n",
       "      <td>ffffcc4e2331aaf1e41e</td>\n",
       "      <td>What other technical skills do you need as a c...</td>\n",
       "      <td>0</td>\n",
       "    </tr>\n",
       "    <tr>\n",
       "      <th>1306118</th>\n",
       "      <td>ffffd431801e5a2f4861</td>\n",
       "      <td>Does MS in ECE have good job prospects in USA ...</td>\n",
       "      <td>0</td>\n",
       "    </tr>\n",
       "    <tr>\n",
       "      <th>1306119</th>\n",
       "      <td>ffffd48fb36b63db010c</td>\n",
       "      <td>Is foam insulation toxic?</td>\n",
       "      <td>0</td>\n",
       "    </tr>\n",
       "    <tr>\n",
       "      <th>1306120</th>\n",
       "      <td>ffffec519fa37cf60c78</td>\n",
       "      <td>How can one start a research project based on ...</td>\n",
       "      <td>0</td>\n",
       "    </tr>\n",
       "    <tr>\n",
       "      <th>1306121</th>\n",
       "      <td>ffffed09fedb5088744a</td>\n",
       "      <td>Who wins in a battle between a Wolverine and a...</td>\n",
       "      <td>0</td>\n",
       "    </tr>\n",
       "  </tbody>\n",
       "</table>\n",
       "</div>\n",
       "    <div class=\"colab-df-buttons\">\n",
       "\n",
       "  <div class=\"colab-df-container\">\n",
       "    <button class=\"colab-df-convert\" onclick=\"convertToInteractive('df-c9ee3eb3-cef7-4db2-95cb-099d92c35475')\"\n",
       "            title=\"Convert this dataframe to an interactive table.\"\n",
       "            style=\"display:none;\">\n",
       "\n",
       "  <svg xmlns=\"http://www.w3.org/2000/svg\" height=\"24px\" viewBox=\"0 -960 960 960\">\n",
       "    <path d=\"M120-120v-720h720v720H120Zm60-500h600v-160H180v160Zm220 220h160v-160H400v160Zm0 220h160v-160H400v160ZM180-400h160v-160H180v160Zm440 0h160v-160H620v160ZM180-180h160v-160H180v160Zm440 0h160v-160H620v160Z\"/>\n",
       "  </svg>\n",
       "    </button>\n",
       "\n",
       "  <style>\n",
       "    .colab-df-container {\n",
       "      display:flex;\n",
       "      gap: 12px;\n",
       "    }\n",
       "\n",
       "    .colab-df-convert {\n",
       "      background-color: #E8F0FE;\n",
       "      border: none;\n",
       "      border-radius: 50%;\n",
       "      cursor: pointer;\n",
       "      display: none;\n",
       "      fill: #1967D2;\n",
       "      height: 32px;\n",
       "      padding: 0 0 0 0;\n",
       "      width: 32px;\n",
       "    }\n",
       "\n",
       "    .colab-df-convert:hover {\n",
       "      background-color: #E2EBFA;\n",
       "      box-shadow: 0px 1px 2px rgba(60, 64, 67, 0.3), 0px 1px 3px 1px rgba(60, 64, 67, 0.15);\n",
       "      fill: #174EA6;\n",
       "    }\n",
       "\n",
       "    .colab-df-buttons div {\n",
       "      margin-bottom: 4px;\n",
       "    }\n",
       "\n",
       "    [theme=dark] .colab-df-convert {\n",
       "      background-color: #3B4455;\n",
       "      fill: #D2E3FC;\n",
       "    }\n",
       "\n",
       "    [theme=dark] .colab-df-convert:hover {\n",
       "      background-color: #434B5C;\n",
       "      box-shadow: 0px 1px 3px 1px rgba(0, 0, 0, 0.15);\n",
       "      filter: drop-shadow(0px 1px 2px rgba(0, 0, 0, 0.3));\n",
       "      fill: #FFFFFF;\n",
       "    }\n",
       "  </style>\n",
       "\n",
       "    <script>\n",
       "      const buttonEl =\n",
       "        document.querySelector('#df-c9ee3eb3-cef7-4db2-95cb-099d92c35475 button.colab-df-convert');\n",
       "      buttonEl.style.display =\n",
       "        google.colab.kernel.accessAllowed ? 'block' : 'none';\n",
       "\n",
       "      async function convertToInteractive(key) {\n",
       "        const element = document.querySelector('#df-c9ee3eb3-cef7-4db2-95cb-099d92c35475');\n",
       "        const dataTable =\n",
       "          await google.colab.kernel.invokeFunction('convertToInteractive',\n",
       "                                                    [key], {});\n",
       "        if (!dataTable) return;\n",
       "\n",
       "        const docLinkHtml = 'Like what you see? Visit the ' +\n",
       "          '<a target=\"_blank\" href=https://colab.research.google.com/notebooks/data_table.ipynb>data table notebook</a>'\n",
       "          + ' to learn more about interactive tables.';\n",
       "        element.innerHTML = '';\n",
       "        dataTable['output_type'] = 'display_data';\n",
       "        await google.colab.output.renderOutput(dataTable, element);\n",
       "        const docLink = document.createElement('div');\n",
       "        docLink.innerHTML = docLinkHtml;\n",
       "        element.appendChild(docLink);\n",
       "      }\n",
       "    </script>\n",
       "  </div>\n",
       "\n",
       "\n",
       "<div id=\"df-54d443df-5540-472d-9794-bc472203040b\">\n",
       "  <button class=\"colab-df-quickchart\" onclick=\"quickchart('df-54d443df-5540-472d-9794-bc472203040b')\"\n",
       "            title=\"Suggest charts\"\n",
       "            style=\"display:none;\">\n",
       "\n",
       "<svg xmlns=\"http://www.w3.org/2000/svg\" height=\"24px\"viewBox=\"0 0 24 24\"\n",
       "     width=\"24px\">\n",
       "    <g>\n",
       "        <path d=\"M19 3H5c-1.1 0-2 .9-2 2v14c0 1.1.9 2 2 2h14c1.1 0 2-.9 2-2V5c0-1.1-.9-2-2-2zM9 17H7v-7h2v7zm4 0h-2V7h2v10zm4 0h-2v-4h2v4z\"/>\n",
       "    </g>\n",
       "</svg>\n",
       "  </button>\n",
       "\n",
       "<style>\n",
       "  .colab-df-quickchart {\n",
       "      --bg-color: #E8F0FE;\n",
       "      --fill-color: #1967D2;\n",
       "      --hover-bg-color: #E2EBFA;\n",
       "      --hover-fill-color: #174EA6;\n",
       "      --disabled-fill-color: #AAA;\n",
       "      --disabled-bg-color: #DDD;\n",
       "  }\n",
       "\n",
       "  [theme=dark] .colab-df-quickchart {\n",
       "      --bg-color: #3B4455;\n",
       "      --fill-color: #D2E3FC;\n",
       "      --hover-bg-color: #434B5C;\n",
       "      --hover-fill-color: #FFFFFF;\n",
       "      --disabled-bg-color: #3B4455;\n",
       "      --disabled-fill-color: #666;\n",
       "  }\n",
       "\n",
       "  .colab-df-quickchart {\n",
       "    background-color: var(--bg-color);\n",
       "    border: none;\n",
       "    border-radius: 50%;\n",
       "    cursor: pointer;\n",
       "    display: none;\n",
       "    fill: var(--fill-color);\n",
       "    height: 32px;\n",
       "    padding: 0;\n",
       "    width: 32px;\n",
       "  }\n",
       "\n",
       "  .colab-df-quickchart:hover {\n",
       "    background-color: var(--hover-bg-color);\n",
       "    box-shadow: 0 1px 2px rgba(60, 64, 67, 0.3), 0 1px 3px 1px rgba(60, 64, 67, 0.15);\n",
       "    fill: var(--button-hover-fill-color);\n",
       "  }\n",
       "\n",
       "  .colab-df-quickchart-complete:disabled,\n",
       "  .colab-df-quickchart-complete:disabled:hover {\n",
       "    background-color: var(--disabled-bg-color);\n",
       "    fill: var(--disabled-fill-color);\n",
       "    box-shadow: none;\n",
       "  }\n",
       "\n",
       "  .colab-df-spinner {\n",
       "    border: 2px solid var(--fill-color);\n",
       "    border-color: transparent;\n",
       "    border-bottom-color: var(--fill-color);\n",
       "    animation:\n",
       "      spin 1s steps(1) infinite;\n",
       "  }\n",
       "\n",
       "  @keyframes spin {\n",
       "    0% {\n",
       "      border-color: transparent;\n",
       "      border-bottom-color: var(--fill-color);\n",
       "      border-left-color: var(--fill-color);\n",
       "    }\n",
       "    20% {\n",
       "      border-color: transparent;\n",
       "      border-left-color: var(--fill-color);\n",
       "      border-top-color: var(--fill-color);\n",
       "    }\n",
       "    30% {\n",
       "      border-color: transparent;\n",
       "      border-left-color: var(--fill-color);\n",
       "      border-top-color: var(--fill-color);\n",
       "      border-right-color: var(--fill-color);\n",
       "    }\n",
       "    40% {\n",
       "      border-color: transparent;\n",
       "      border-right-color: var(--fill-color);\n",
       "      border-top-color: var(--fill-color);\n",
       "    }\n",
       "    60% {\n",
       "      border-color: transparent;\n",
       "      border-right-color: var(--fill-color);\n",
       "    }\n",
       "    80% {\n",
       "      border-color: transparent;\n",
       "      border-right-color: var(--fill-color);\n",
       "      border-bottom-color: var(--fill-color);\n",
       "    }\n",
       "    90% {\n",
       "      border-color: transparent;\n",
       "      border-bottom-color: var(--fill-color);\n",
       "    }\n",
       "  }\n",
       "</style>\n",
       "\n",
       "  <script>\n",
       "    async function quickchart(key) {\n",
       "      const quickchartButtonEl =\n",
       "        document.querySelector('#' + key + ' button');\n",
       "      quickchartButtonEl.disabled = true;  // To prevent multiple clicks.\n",
       "      quickchartButtonEl.classList.add('colab-df-spinner');\n",
       "      try {\n",
       "        const charts = await google.colab.kernel.invokeFunction(\n",
       "            'suggestCharts', [key], {});\n",
       "      } catch (error) {\n",
       "        console.error('Error during call to suggestCharts:', error);\n",
       "      }\n",
       "      quickchartButtonEl.classList.remove('colab-df-spinner');\n",
       "      quickchartButtonEl.classList.add('colab-df-quickchart-complete');\n",
       "    }\n",
       "    (() => {\n",
       "      let quickchartButtonEl =\n",
       "        document.querySelector('#df-54d443df-5540-472d-9794-bc472203040b button');\n",
       "      quickchartButtonEl.style.display =\n",
       "        google.colab.kernel.accessAllowed ? 'block' : 'none';\n",
       "    })();\n",
       "  </script>\n",
       "</div>\n",
       "\n",
       "    </div>\n",
       "  </div>\n"
      ],
      "text/plain": [
       "                          qid  \\\n",
       "1306102  ffff3778790af9baae76   \n",
       "1306103  ffff3f0a2449ffe4b9ff   \n",
       "1306104  ffff41393389d4206066   \n",
       "1306105  ffff42493fc203cd9532   \n",
       "1306106  ffff48dd47bee89fff79   \n",
       "1306107  ffff5fd051a032f32a39   \n",
       "1306108  ffff6d528040d3888b93   \n",
       "1306109  ffff8776cd30cdc8d7f8   \n",
       "1306110  ffff94d427ade3716cd1   \n",
       "1306111  ffffa382c58368071dc9   \n",
       "1306112  ffffa5b0fa76431c063f   \n",
       "1306113  ffffae5dbda3dc9e9771   \n",
       "1306114  ffffba7c4888798571c1   \n",
       "1306115  ffffc0c7158658a06fd9   \n",
       "1306116  ffffc404da586ac5a08f   \n",
       "1306117  ffffcc4e2331aaf1e41e   \n",
       "1306118  ffffd431801e5a2f4861   \n",
       "1306119  ffffd48fb36b63db010c   \n",
       "1306120  ffffec519fa37cf60c78   \n",
       "1306121  ffffed09fedb5088744a   \n",
       "\n",
       "                                             question_text  target  \n",
       "1306102  What steps can I take to live a normal life if...       0  \n",
       "1306103  Isn't Trump right after all? Why should the US...       1  \n",
       "1306104  Is 33 too late for a career in creative advert...       0  \n",
       "1306105  What is difference between the filteration wor...       0  \n",
       "1306106  If the universe \"popped\" into existence from n...       0  \n",
       "1306107  How does a shared service technology team meas...       0  \n",
       "1306108                    How is DSATM civil engineering?       0  \n",
       "1306109  Do you know any problem that depends solely on...       0  \n",
       "1306110  What are some comic ideas for you Tube videos ...       0  \n",
       "1306111  If you had $10 million of Bitcoin, could you s...       0  \n",
       "1306112                Are you ashamed of being an Indian?       1  \n",
       "1306113  What are the methods to determine fossil ages ...       0  \n",
       "1306114                          What is your story today?       0  \n",
       "1306115  How do I consume 150 gms protein daily both ve...       0  \n",
       "1306116  What are the good career options for a msc che...       0  \n",
       "1306117  What other technical skills do you need as a c...       0  \n",
       "1306118  Does MS in ECE have good job prospects in USA ...       0  \n",
       "1306119                          Is foam insulation toxic?       0  \n",
       "1306120  How can one start a research project based on ...       0  \n",
       "1306121  Who wins in a battle between a Wolverine and a...       0  "
      ]
     },
     "execution_count": 5,
     "metadata": {},
     "output_type": "execute_result"
    }
   ],
   "source": [
    "df.tail(20)"
   ]
  },
  {
   "cell_type": "code",
   "execution_count": 6,
   "metadata": {
    "colab": {
     "base_uri": "https://localhost:8080/",
     "height": 469
    },
    "id": "XLbCn7PC9Naw",
    "outputId": "7b557afb-6289-4ef5-b042-6039ecbe9214"
   },
   "outputs": [
    {
     "data": {
      "text/plain": [
       "<Axes: title={'center': 'Target Distribution'}, ylabel='Frequency'>"
      ]
     },
     "execution_count": 6,
     "metadata": {},
     "output_type": "execute_result"
    },
    {
     "data": {
      "image/png": "[encoded data removed]",
      "text/plain": [
       "<Figure size 640x480 with 1 Axes>"
      ]
     },
     "metadata": {},
     "output_type": "display_data"
    }
   ],
   "source": [
    "\n",
    "# target label distribution\n",
    "df.target.plot(kind='hist', title=\"Target Distribution\")"
   ]
  },
  {
   "cell_type": "markdown",
   "metadata": {
    "id": "ELjswHcFHfp3"
   },
   "source": [
    "## Task 4: Create tf.data.Datasets for Training and Evaluation"
   ]
  },
  {
   "cell_type": "code",
   "execution_count": 26,
   "metadata": {
    "colab": {
     "base_uri": "https://localhost:8080/"
    },
    "id": "fScULIGPwuWk",
    "outputId": "b0e3d7bb-34f7-4f89-f26d-423e77e604a0"
   },
   "outputs": [
    {
     "data": {
      "text/plain": [
       "((9795, 3), (972, 3))"
      ]
     },
     "execution_count": 26,
     "metadata": {},
     "output_type": "execute_result"
    }
   ],
   "source": [
    "train_df,remaining = train_test_split(df,random_state=42,train_size=0.0075,stratify=df.target.values)\n",
    "valid_df,_ = train_test_split(remaining,random_state=42,train_size=0.00075,stratify=remaining.target.values)\n",
    "train_df.shape,valid_df.shape"
   ]
  },
  {
   "cell_type": "code",
   "execution_count": 27,
   "metadata": {
    "colab": {
     "base_uri": "https://localhost:8080/"
    },
    "id": "qQYMGT5_qLPX",
    "outputId": "bb337a9a-a6ef-489c-d6a6-f8bf7a7be8eb"
   },
   "outputs": [
    {
     "name": "stdout",
     "output_type": "stream",
     "text": [
      "tf.Tensor(b'Why are unhealthy relationships so desirable?', shape=(), dtype=string)\n",
      "tf.Tensor(0, shape=(), dtype=int64)\n"
     ]
    }
   ],
   "source": [
    "with tf.device('/cpu:0'):\n",
    "  train_data = tf.data.Dataset.from_tensor_slices((train_df.question_text.values, train_df.target.values))\n",
    "  valid_data = tf.data.Dataset.from_tensor_slices((valid_df.question_text.values, valid_df.target.values))\n",
    "\n",
    "  for text, label in train_data.take(1):\n",
    "    print(text)\n",
    "    print(label)"
   ]
  },
  {
   "cell_type": "markdown",
   "metadata": {
    "id": "e2-ReN88Hvy_"
   },
   "source": [
    "## Task 5: Download a Pre-trained BERT Model from TensorFlow Hub"
   ]
  },
  {
   "cell_type": "code",
   "execution_count": 13,
   "metadata": {
    "colab": {
     "base_uri": "https://localhost:8080/"
    },
    "id": "EMb5M86b4-BU",
    "outputId": "581f6dd6-e026-4c1b-d208-efa96b08afc0"
   },
   "outputs": [
    {
     "name": "stdout",
     "output_type": "stream",
     "text": [
      "['hi', '##,', 'how', 'are', 'you', 'doing', '##?']\n",
      "[7632, 29623, 2129, 2024, 2017, 2725, 29632]\n"
     ]
    }
   ],
   "source": [
    "\"\"\"\n",
    "Each line of the dataset is composed of the review text and its label\n",
    "- Data preprocessing consists of transforming text to BERT input features:\n",
    "input_word_ids, input_mask, segment_ids\n",
    "- In the process, tokenizing the text is done with the provided BERT model tokenizer\n",
    "\"\"\"\n",
    "\n",
    "\n",
    "# Set label categories and max sequence length\n",
    "label_list = [0, 1]  # Label categories\n",
    "max_seq_length = 128  # Maximum length of (token) input sequences\n",
    "train_batch_size = 32\n",
    "\n",
    "# Get BERT layer and tokenizer\n",
    "# More details here: https://tfhub.dev/tensorflow/bert_en_uncased_L-12_H-768_A-12/2\n",
    "bert_layer = hub.KerasLayer(\"https://tfhub.dev/tensorflow/bert_en_uncased_L-12_H-768_A-12/2\", trainable=True)\n",
    "\n",
    "vocab_file = bert_layer.resolved_object.vocab_file.asset_path.numpy()\n",
    "do_lower_case = bert_layer.resolved_object.do_lower_case.numpy()\n",
    "tokenizer = tokenization.FullTokenizer(vocab_file, do_lower_case)\n",
    "\n",
    "# Tokenize input text\n",
    "tokens = tokenizer.wordpiece_tokenizer.tokenize('hi, how are you doing?')\n",
    "print(tokens)\n",
    "\n",
    "# Convert tokens to IDs\n",
    "token_ids = tokenizer.convert_tokens_to_ids(tokens)\n",
    "print(token_ids)"
   ]
  },
  {
   "cell_type": "markdown",
   "metadata": {
    "id": "9QinzNq6OsP1"
   },
   "source": [
    "## Task 6: Tokenize and Preprocess Text for BERT"
   ]
  },
  {
   "cell_type": "markdown",
   "metadata": {
    "id": "3FTqJ698zZ1e"
   },
   "source": [
    "<div align=\"center\">\n",
    "    <img width=\"512px\" src='https://drive.google.com/uc?id=1-SpKFELnEvBMBqO7h3iypo8q9uUUo96P' />\n",
    "    <p style=\"text-align: center;color:gray\">Figure 2: BERT Tokenizer</p>\n",
    "</div>"
   ]
  },
  {
   "cell_type": "markdown",
   "metadata": {
    "id": "cWYkggYe6HZc"
   },
   "source": [
    "We'll need to transform our data into a format BERT understands. This involves two steps. First, we create InputExamples using `classifier_data_lib`'s constructor `InputExample` provided in the BERT library."
   ]
  },
  {
   "cell_type": "code",
   "execution_count": 14,
   "metadata": {
    "id": "m-21A5aNJM0W"
   },
   "outputs": [],
   "source": [
    "# This provides a function to convert row to input features and label\n",
    "\n",
    "def to_feature(text, label, label_list=label_list, max_seq_length=max_seq_length, tokenizer=tokenizer):\n",
    "  example = classifier_data_lib.InputExample(guid = None,\n",
    "                                            text_a = text.numpy(),\n",
    "                                            text_b = None,\n",
    "                                            label = label.numpy())\n",
    "  feature = classifier_data_lib.convert_single_example(0, example, label_list,\n",
    "                                    max_seq_length, tokenizer)\n",
    "\n",
    "  return (feature.input_ids, feature.input_mask, feature.segment_ids, feature.label_id)"
   ]
  },
  {
   "cell_type": "markdown",
   "metadata": {
    "id": "A_HQSsHwWCsK"
   },
   "source": [
    "You want to use [`Dataset.map`](https://www.tensorflow.org/api_docs/python/tf/data/Dataset#map) to apply this function to each element of the dataset. [`Dataset.map`](https://www.tensorflow.org/api_docs/python/tf/data/Dataset#map) runs in graph mode.\n",
    "\n",
    "- Graph tensors do not have a value.\n",
    "- In graph mode you can only use TensorFlow Ops and functions.\n",
    "\n",
    "So you can't `.map` this function directly: You need to wrap it in a [`tf.py_function`](https://www.tensorflow.org/api_docs/python/tf/py_function). The [`tf.py_function`](https://www.tensorflow.org/api_docs/python/tf/py_function) will pass regular tensors (with a value and a `.numpy()` method to access it), to the wrapped python function."
   ]
  },
  {
   "cell_type": "markdown",
   "metadata": {
    "id": "zaNlkKVfWX0Q"
   },
   "source": [
    "## Task 7: Wrap a Python Function into a TensorFlow op for Eager Execution"
   ]
  },
  {
   "cell_type": "code",
   "execution_count": 15,
   "metadata": {
    "id": "AGACBcfCWC2O"
   },
   "outputs": [],
   "source": [
    "def to_feature_map(text, label):\n",
    "  input_ids, input_mask, segment_ids, label_id = tf.py_function(to_feature, inp=[text, label],\n",
    "                                Tout=[tf.int32, tf.int32, tf.int32, tf.int32])\n",
    "\n",
    "  # py_func doesn't set the shape of the returned tensors.\n",
    "  input_ids.set_shape([max_seq_length])\n",
    "  input_mask.set_shape([max_seq_length])\n",
    "  segment_ids.set_shape([max_seq_length])\n",
    "  label_id.set_shape([])\n",
    "\n",
    "  x = {\n",
    "        'input_word_ids': input_ids,\n",
    "        'input_mask': input_mask,\n",
    "        'input_type_ids': segment_ids\n",
    "    }\n",
    "  return (x, label_id)"
   ]
  },
  {
   "cell_type": "markdown",
   "metadata": {
    "id": "dhdO6MjTbtn1"
   },
   "source": [
    "## Task 8: Create a TensorFlow Input Pipeline with `tf.data`"
   ]
  },
  {
   "cell_type": "code",
   "execution_count": 28,
   "metadata": {
    "id": "LHRdiO3dnPNr"
   },
   "outputs": [],
   "source": [
    "with tf.device('/cpu:0'):\n",
    "    # Train data pipeline\n",
    "    train_data = (train_data.map(to_feature_map,\n",
    "                                 num_parallel_calls=tf.data.experimental.AUTOTUNE)\n",
    "                           .shuffle(1000)\n",
    "                           .batch(32, drop_remainder=True)\n",
    "                           .prefetch(tf.data.experimental.AUTOTUNE))\n",
    "\n",
    "    # Validation data pipeline\n",
    "    valid_data = (valid_data.map(to_feature_map,\n",
    "                                 num_parallel_calls=tf.data.experimental.AUTOTUNE)\n",
    "                           .batch(32, drop_remainder=True)\n",
    "                           .prefetch(tf.data.experimental.AUTOTUNE))\n"
   ]
  },
  {
   "cell_type": "markdown",
   "metadata": {
    "id": "KLUWnfx-YDi2"
   },
   "source": [
    "The resulting `tf.data.Datasets` return `(features, labels)` pairs, as expected by [`keras.Model.fit`](https://www.tensorflow.org/api_docs/python/tf/keras/Model#fit):"
   ]
  },
  {
   "cell_type": "code",
   "execution_count": 21,
   "metadata": {
    "colab": {
     "base_uri": "https://localhost:8080/"
    },
    "id": "B0Z2cy9GHQ8x",
    "outputId": "033687bc-bfc3-46c3-84b9-253d591eadcd"
   },
   "outputs": [
    {
     "data": {
      "text/plain": [
       "({'input_word_ids': TensorSpec(shape=(32, 128), dtype=tf.int32, name=None),\n",
       "  'input_mask': TensorSpec(shape=(32, 128), dtype=tf.int32, name=None),\n",
       "  'input_type_ids': TensorSpec(shape=(32, 128), dtype=tf.int32, name=None)},\n",
       " TensorSpec(shape=(32,), dtype=tf.int32, name=None))"
      ]
     },
     "execution_count": 21,
     "metadata": {},
     "output_type": "execute_result"
    }
   ],
   "source": [
    "# Train data specification\n",
    "train_data.element_spec"
   ]
  },
  {
   "cell_type": "code",
   "execution_count": 29,
   "metadata": {
    "colab": {
     "base_uri": "https://localhost:8080/"
    },
    "id": "DGAH-ycYOmao",
    "outputId": "ecbb88c8-8386-41bd-de93-13b36c1ec2ee"
   },
   "outputs": [
    {
     "data": {
      "text/plain": [
       "({'input_word_ids': TensorSpec(shape=(32, 128), dtype=tf.int32, name=None),\n",
       "  'input_mask': TensorSpec(shape=(32, 128), dtype=tf.int32, name=None),\n",
       "  'input_type_ids': TensorSpec(shape=(32, 128), dtype=tf.int32, name=None)},\n",
       " TensorSpec(shape=(32,), dtype=tf.int32, name=None))"
      ]
     },
     "execution_count": 29,
     "metadata": {},
     "output_type": "execute_result"
    }
   ],
   "source": [
    "\n",
    "# valid data spec\n",
    "valid_data.element_spec"
   ]
  },
  {
   "cell_type": "markdown",
   "metadata": {
    "id": "GZxe-7yhPyQe"
   },
   "source": [
    "## Task 9: Add a Classification Head to the BERT Layer"
   ]
  },
  {
   "cell_type": "markdown",
   "metadata": {
    "id": "9THH5V0Dw2HO"
   },
   "source": [
    "<div align=\"center\">\n",
    "    <img width=\"512px\" src='https://drive.google.com/uc?id=1fnJTeJs5HUpz7nix-F9E6EZdgUflqyEu' />\n",
    "    <p style=\"text-align: center;color:gray\">Figure 3: BERT Layer</p>\n",
    "</div>"
   ]
  },
  {
   "cell_type": "code",
   "execution_count": 30,
   "metadata": {
    "id": "G9il4gtlADcp"
   },
   "outputs": [],
   "source": [
    "# Building the model\n",
    "def create_model():\n",
    "  input_word_ids = tf.keras.layers.Input(shape=(max_seq_length,), dtype=tf.int32,\n",
    "                                      name=\"input_word_ids\")\n",
    "  input_mask = tf.keras.layers.Input(shape=(max_seq_length,), dtype=tf.int32,\n",
    "                                  name=\"input_mask\")\n",
    "  input_type_ids = tf.keras.layers.Input(shape=(max_seq_length,), dtype=tf.int32,\n",
    "                                  name=\"input_type_ids\")\n",
    "\n",
    "  pooled_output, sequence_output = bert_layer([input_word_ids, input_mask, input_type_ids])\n",
    "\n",
    "  drop = tf.keras.layers.Dropout(0.4)(pooled_output)\n",
    "  output = tf.keras.layers.Dense(1, activation=\"sigmoid\", name=\"output\")(drop)\n",
    "\n",
    "  model = tf.keras.Model(\n",
    "    inputs={\n",
    "        'input_word_ids': input_word_ids,\n",
    "        'input_mask': input_mask,\n",
    "        'input_type_ids': input_type_ids\n",
    "    },\n",
    "    outputs=output)\n",
    "  return model"
   ]
  },
  {
   "cell_type": "markdown",
   "metadata": {
    "id": "S6maM-vr7YaJ"
   },
   "source": [
    "## Task 10: Fine-Tune BERT for Text Classification"
   ]
  },
  {
   "cell_type": "code",
   "execution_count": 31,
   "metadata": {
    "colab": {
     "base_uri": "https://localhost:8080/"
    },
    "id": "ptCtiiONsBgo",
    "outputId": "b55ffd72-fcb5-4a8d-c741-2fcd9555be78"
   },
   "outputs": [
    {
     "name": "stdout",
     "output_type": "stream",
     "text": [
      "Model: \"model\"\n",
      "__________________________________________________________________________________________________\n",
      " Layer (type)                Output Shape                 Param #   Connected to                  \n",
      "==================================================================================================\n",
      " input_word_ids (InputLayer  [(None, 128)]                0         []                            \n",
      " )                                                                                                \n",
      "                                                                                                  \n",
      " input_mask (InputLayer)     [(None, 128)]                0         []                            \n",
      "                                                                                                  \n",
      " input_type_ids (InputLayer  [(None, 128)]                0         []                            \n",
      " )                                                                                                \n",
      "                                                                                                  \n",
      " keras_layer (KerasLayer)    [(None, 768),                1094822   ['input_word_ids[0][0]',      \n",
      "                              (None, 128, 768)]           41         'input_mask[0][0]',          \n",
      "                                                                     'input_type_ids[0][0]']      \n",
      "                                                                                                  \n",
      " dropout (Dropout)           (None, 768)                  0         ['keras_layer[0][0]']         \n",
      "                                                                                                  \n",
      " output (Dense)              (None, 1)                    769       ['dropout[0][0]']             \n",
      "                                                                                                  \n",
      "==================================================================================================\n",
      "Total params: 109483010 (417.64 MB)\n",
      "Trainable params: 109483009 (417.64 MB)\n",
      "Non-trainable params: 1 (1.00 Byte)\n",
      "__________________________________________________________________________________________________\n"
     ]
    }
   ],
   "source": [
    "model = create_model()\n",
    "model.compile(optimizer=tf.keras.optimizers.Adam(learning_rate=2e-5),\n",
    "                     loss=tf.keras.losses.BinaryCrossentropy(),\n",
    "                     metrics=[tf.keras.metrics.BinaryAccuracy()])\n",
    "model.summary()"
   ]
  },
  {
   "cell_type": "code",
   "execution_count": 32,
   "metadata": {
    "colab": {
     "base_uri": "https://localhost:8080/",
     "height": 338
    },
    "id": "6GJaFnkbMtPL",
    "outputId": "26cbfb15-7e7d-454f-e6fe-5c6edf4dd966"
   },
   "outputs": [
    {
     "data": {
      "image/png": "[encoded data removed]",
      "text/plain": [
       "<IPython.core.display.Image object>"
      ]
     },
     "execution_count": 32,
     "metadata": {},
     "output_type": "execute_result"
    }
   ],
   "source": [
    "tf.keras.utils.plot_model(model=model,show_shapes=True,dpi=76)"
   ]
  },
  {
   "cell_type": "code",
   "execution_count": 21,
   "metadata": {
    "colab": {
     "base_uri": "https://localhost:8080/"
    },
    "id": "OcREcgPUHr9O",
    "outputId": "ba982178-e5e7-4d1c-d1b9-446ac7299c03"
   },
   "outputs": [
    {
     "name": "stdout",
     "output_type": "stream",
     "text": [
      "Epoch 1/4\n",
      "306/306 [==============================] - ETA: 0s - loss: 0.1665 - binary_accuracy: 0.9403WARNING:tensorflow:Callbacks method `on_test_batch_end` is slow compared to the batch time (batch time: 0.0211s vs `on_test_batch_end` time: 0.2700s). Check your callbacks.\n"
     ]
    },
    {
     "name": "stderr",
     "output_type": "stream",
     "text": [
      "WARNING:tensorflow:Callbacks method `on_test_batch_end` is slow compared to the batch time (batch time: 0.0211s vs `on_test_batch_end` time: 0.2700s). Check your callbacks.\n"
     ]
    },
    {
     "name": "stdout",
     "output_type": "stream",
     "text": [
      "\b\b\b\b\b\b\b\b\b\b\b\b\b\b\b\b\b\b\b\b\b\b\b\b\b\b\b\b\b\b\b\b\b\b\b\b\b\b\b\b\b\b\b\b\b\b\b\b\b\b\b\b\b\b\b\b\b\b\b\b\b\b\b\b\b\b\b\b\b\b\b\b\b\b\b\b\b\b\b\b\b\b\b\b\b\b\b\b\b\b\b\r",
      "306/306 [==============================] - 266s 870ms/step - loss: 0.1665 - binary_accuracy: 0.9403 - val_loss: 0.1142 - val_binary_accuracy: 0.9531\n",
      "Epoch 2/4\n",
      "306/306 [==============================] - 265s 865ms/step - loss: 0.0934 - binary_accuracy: 0.9643 - val_loss: 0.1279 - val_binary_accuracy: 0.9531\n",
      "Epoch 3/4\n",
      "306/306 [==============================] - 265s 866ms/step - loss: 0.0488 - binary_accuracy: 0.9828 - val_loss: 0.1832 - val_binary_accuracy: 0.9552\n",
      "Epoch 4/4\n",
      "306/306 [==============================] - 265s 865ms/step - loss: 0.0209 - binary_accuracy: 0.9925 - val_loss: 0.2300 - val_binary_accuracy: 0.9500\n"
     ]
    }
   ],
   "source": [
    "# Train model\n",
    "epochs=4\n",
    "history = model.fit(train_data,\n",
    "                    validation_data=valid_data,\n",
    "                    epochs=epochs,\n",
    "                    verbose=1)"
   ]
  },
  {
   "cell_type": "markdown",
   "metadata": {
    "id": "kNZl1lx_cA5Y"
   },
   "source": [
    "## Task 11: Evaluate the BERT Text Classification Model"
   ]
  },
  {
   "cell_type": "code",
   "execution_count": null,
   "metadata": {},
   "outputs": [],
   "source": [
    "import matplotlib.pyplot as plt\n",
    "\n",
    "def plot_graphs(history, metric):\n",
    "  plt.plot(history.history[metric])\n",
    "  plt.plot(history.history['val_'+metric], '')\n",
    "  plt.xlabel(\"Epochs\")\n",
    "  plt.ylabel(metric)\n",
    "  plt.legend([metric, 'val_'+metric])\n",
    "  plt.show()"
   ]
  },
  {
   "cell_type": "code",
   "execution_count": 23,
   "metadata": {
    "colab": {
     "base_uri": "https://localhost:8080/",
     "height": 279
    },
    "id": "v6lrFRra_KmA",
    "outputId": "b26dc6ef-795c-4d8e-ddf3-4ac6570c11b0",
    "scrolled": true
   },
   "outputs": [
    {
     "data": {
      "image/png": "[encoded data removed]",
      "text/plain": [
       "<Figure size 432x288 with 1 Axes>"
      ]
     },
     "metadata": {
      "needs_background": "light",
      "tags": []
     },
     "output_type": "display_data"
    }
   ],
   "source": [
    "predsplot_graphs(history,'loss')"
   ]
  },
  {
   "cell_type": "code",
   "execution_count": 24,
   "metadata": {
    "colab": {
     "base_uri": "https://localhost:8080/",
     "height": 279
    },
    "id": "opu9neBA_98R",
    "outputId": "5f1b4c00-8052-42df-995a-b7b68de9192d",
    "scrolled": true
   },
   "outputs": [
    {
     "data": {
      "image/png": "[encoded data removed]",
      "text/plain": [
       "<Figure size 432x288 with 1 Axes>"
      ]
     },
     "metadata": {
      "needs_background": "light",
      "tags": []
     },
     "output_type": "display_data"
    }
   ],
   "source": [
    "plot_graphs(history,'binary_accuracy')"
   ]
  },
  {
   "cell_type": "code",
   "execution_count": null,
   "metadata": {},
   "outputs": [],
   "source": [
    "sample_example = [\"Are Americans Idiots?\",\\\n",
    "                  \"Why are Indians Brown?\",\\\n",
    "                  \"Is trump retarded?\",\\\n",
    "                  \"Why is United Kingdom is the worst place?\",\\\n",
    "                  \"Why is Messi the GOAT?\",\n",
    "                  ]\n",
    "test_data = tf.data.Dataset.from_tensor_slices((sample_example, [0]*len(sample_example)))\n",
    "test_data = (test_data.map(to_feature_map).batch(1))\n",
    "preds = model.predict(test_data)\n",
    "#['Toxic' if pred >=0.5 else 'Sincere' for pred in preds]"
   ]
  },
  {
   "cell_type": "code",
   "execution_count": 30,
   "metadata": {
    "colab": {
     "base_uri": "https://localhost:8080/"
    },
    "id": "FeVNOGfFJT9O",
    "outputId": "0573effc-5a33-4ebe-8c18-bfcad67f57ea"
   },
   "outputs": [
    {
     "data": {
      "text/plain": [
       "array([[0.9958546 ],\n",
       "       [0.9976781 ],\n",
       "       [0.9798202 ],\n",
       "       [0.00239798],\n",
       "       [0.32768732]], dtype=float32)"
      ]
     },
     "execution_count": 30,
     "metadata": {
      "tags": []
     },
     "output_type": "execute_result"
    }
   ],
   "source": [
    "preds"
   ]
  },
  {
   "cell_type": "code",
   "execution_count": 31,
   "metadata": {
    "colab": {
     "base_uri": "https://localhost:8080/"
    },
    "id": "I_YWudFRJT__",
    "outputId": "427596aa-ccd2-492a-af28-026db549d418"
   },
   "outputs": [
    {
     "data": {
      "text/plain": [
       "['Toxic', 'Toxic', 'Toxic', 'Sincere', 'Sincere']"
      ]
     },
     "execution_count": 31,
     "metadata": {
      "tags": []
     },
     "output_type": "execute_result"
    }
   ],
   "source": [
    "['Toxic' if pred >=0.5 else 'Sincere' for pred in preds]"
   ]
  },
  {
   "cell_type": "code",
   "execution_count": null,
   "metadata": {
    "id": "K4B8NQBLd9rN"
   },
   "outputs": [],
   "source": []
  },
  {
   "cell_type": "code",
   "execution_count": null,
   "metadata": {
    "id": "FeVNOGfFJT9O"
   },
   "outputs": [],
   "source": []
  },
  {
   "cell_type": "code",
   "execution_count": null,
   "metadata": {
    "id": "I_YWudFRJT__"
   },
   "outputs": [],
   "source": []
  },
  {
   "cell_type": "code",
   "execution_count": null,
   "metadata": {
    "id": "hENB__IlJUCk"
   },
   "outputs": [],
   "source": []
  },
  {
   "cell_type": "code",
   "execution_count": null,
   "metadata": {
    "id": "wkYpiGrhJUFK"
   },
   "outputs": [],
   "source": []
  },
  {
   "cell_type": "code",
   "execution_count": null,
   "metadata": {
    "id": "iYqbQZJnJUHw"
   },
   "outputs": [],
   "source": []
  },
  {
   "cell_type": "code",
   "execution_count": null,
   "metadata": {
    "id": "aiKuBGgfJUKv"
   },
   "outputs": [],
   "source": []
  }
 ],
 "metadata": {
  "accelerator": "GPU",
  "colab": {
   "machine_shape": "hm",
   "provenance": []
  },
  "kernelspec": {
   "display_name": "Python 3 (ipykernel)",
   "language": "python",
   "name": "python3"
  },
  "language_info": {
   "codemirror_mode": {
    "name": "ipython",
    "version": 3
   },
   "file_extension": ".py",
   "mimetype": "text/x-python",
   "name": "python",
   "nbconvert_exporter": "python",
   "pygments_lexer": "ipython3",
   "version": "3.10.13"
  }
 },
 "nbformat": 4,
 "nbformat_minor": 4
}
